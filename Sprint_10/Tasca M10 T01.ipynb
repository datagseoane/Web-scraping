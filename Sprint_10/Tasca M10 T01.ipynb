{
 "cells": [
  {
   "cell_type": "code",
   "execution_count": 1,
   "id": "ecfbeb85",
   "metadata": {},
   "outputs": [
    {
     "name": "stderr",
     "output_type": "stream",
     "text": [
      "[nltk_data] Downloading package punkt to\n",
      "[nltk_data]     C:\\Users\\maria\\AppData\\Roaming\\nltk_data...\n",
      "[nltk_data]   Package punkt is already up-to-date!\n"
     ]
    }
   ],
   "source": [
    "import pandas as pd\n",
    "\n",
    "#Loading NLTK\n",
    "import nltk\n",
    "nltk.download('punkt')\n",
    "from nltk.sentiment.vader import SentimentIntensityAnalyzer\n",
    "from nltk.corpus import stopwords                            \n",
    "from nltk.stem import PorterStemmer\n",
    "from nltk.tokenize import sent_tokenize, word_tokenize\n",
    "\n",
    "import requests\n",
    "from bs4 import BeautifulSoup"
   ]
  },
  {
   "cell_type": "markdown",
   "id": "f52ea6cb",
   "metadata": {},
   "source": [
    "# Exercici1 "
   ]
  },
  {
   "cell_type": "markdown",
   "id": "353f55d6",
   "metadata": {},
   "source": [
    "*Realitza web scraping de dues de les tres pàgines web proposades utilitzant BeautifulSoup primer i Selenium després.*\n",
    "* http://quotes.toscrape.com\n",
    "* https://www.bolsamadrid.es\n",
    "* www.wikipedia.es"
   ]
  },
  {
   "cell_type": "markdown",
   "id": "621a7881",
   "metadata": {},
   "source": [
    "### 1. Website: http://quotes.toscrape.com"
   ]
  },
  {
   "cell_type": "markdown",
   "id": "859ecbc1",
   "metadata": {},
   "source": [
    "Quotes to Scrape es una página web de citas populares de diferentes autores relacionados con diferentes temas"
   ]
  },
  {
   "cell_type": "markdown",
   "id": "64320bba",
   "metadata": {},
   "source": [
    "#### 1.1. Scraping con BeautifulSoup"
   ]
  },
  {
   "cell_type": "code",
   "execution_count": 2,
   "id": "47973b07",
   "metadata": {
    "scrolled": false
   },
   "outputs": [
    {
     "data": {
      "text/plain": [
       "200"
      ]
     },
     "execution_count": 2,
     "metadata": {},
     "output_type": "execute_result"
    }
   ],
   "source": [
    "URL = \"http://quotes.toscrape.com/\"\n",
    "page = requests.get(URL)\n",
    "\n",
    "page.status_code"
   ]
  },
  {
   "cell_type": "code",
   "execution_count": 3,
   "id": "555a7de7",
   "metadata": {},
   "outputs": [],
   "source": [
    "soup = BeautifulSoup(page.content, \"html.parser\")\n",
    "results = soup.find(class_='container')"
   ]
  },
  {
   "cell_type": "markdown",
   "id": "54d4c046",
   "metadata": {},
   "source": [
    "* Se buscarán todas las div etiquetas que tengan class quote."
   ]
  },
  {
   "cell_type": "code",
   "execution_count": 4,
   "id": "f6c7ead3",
   "metadata": {},
   "outputs": [
    {
     "data": {
      "text/plain": [
       "10"
      ]
     },
     "execution_count": 4,
     "metadata": {},
     "output_type": "execute_result"
    }
   ],
   "source": [
    "quotes_elements = results.find_all(\"div\", class_=\"quote\", itemscope=\"\")\n",
    "len(quotes_elements)"
   ]
  },
  {
   "cell_type": "markdown",
   "id": "e223ab21",
   "metadata": {},
   "source": [
    "Cada página tiene 10 citas"
   ]
  },
  {
   "cell_type": "code",
   "execution_count": 5,
   "id": "2158cb54",
   "metadata": {
    "scrolled": false
   },
   "outputs": [
    {
     "name": "stdout",
     "output_type": "stream",
     "text": [
      "“The world as we have created it is a process of our thinking. It cannot be changed without changing our thinking.”\n",
      "Albert Einstein\n",
      "Tags:\n",
      "            \n",
      "change\n",
      "deep-thoughts\n",
      "thinking\n",
      "world\n",
      "\n",
      "“It is our choices, Harry, that show what we truly are, far more than our abilities.”\n",
      "J.K. Rowling\n",
      "Tags:\n",
      "            \n",
      "abilities\n",
      "choices\n",
      "\n",
      "“There are only two ways to live your life. One is as though nothing is a miracle. The other is as though everything is a miracle.”\n",
      "Albert Einstein\n",
      "Tags:\n",
      "            \n",
      "inspirational\n",
      "life\n",
      "live\n",
      "miracle\n",
      "miracles\n",
      "\n",
      "“The person, be it gentleman or lady, who has not pleasure in a good novel, must be intolerably stupid.”\n",
      "Jane Austen\n",
      "Tags:\n",
      "            \n",
      "aliteracy\n",
      "books\n",
      "classic\n",
      "humor\n",
      "\n",
      "“Imperfection is beauty, madness is genius and it's better to be absolutely ridiculous than absolutely boring.”\n",
      "Marilyn Monroe\n",
      "Tags:\n",
      "            \n",
      "be-yourself\n",
      "inspirational\n",
      "\n",
      "“Try not to become a man of success. Rather become a man of value.”\n",
      "Albert Einstein\n",
      "Tags:\n",
      "            \n",
      "adulthood\n",
      "success\n",
      "value\n",
      "\n",
      "“It is better to be hated for what you are than to be loved for what you are not.”\n",
      "André Gide\n",
      "Tags:\n",
      "            \n",
      "life\n",
      "love\n",
      "\n",
      "“I have not failed. I've just found 10,000 ways that won't work.”\n",
      "Thomas A. Edison\n",
      "Tags:\n",
      "            \n",
      "edison\n",
      "failure\n",
      "inspirational\n",
      "paraphrased\n",
      "\n",
      "“A woman is like a tea bag; you never know how strong it is until it's in hot water.”\n",
      "Eleanor Roosevelt\n",
      "Tags:\n",
      "            \n",
      "misattributed-eleanor-roosevelt\n",
      "\n",
      "“A day without sunshine is like, you know, night.”\n",
      "Steve Martin\n",
      "Tags:\n",
      "            \n",
      "humor\n",
      "obvious\n",
      "simile\n",
      "\n"
     ]
    }
   ],
   "source": [
    "for quote_element in quotes_elements:\n",
    "    quotes = quote_element.find(\"span\", class_=\"text\")\n",
    "    author = quote_element.find(\"small\", class_=\"author\")\n",
    "    tags = quote_element.find(\"div\", class_=\"tags\")\n",
    "    print(quotes.text.strip())\n",
    "    print(author.text.strip())\n",
    "    print(tags.text.strip())\n",
    "    print()"
   ]
  },
  {
   "cell_type": "markdown",
   "id": "48223704",
   "metadata": {},
   "source": [
    "#### 1.2. Scraping con Selenimun"
   ]
  },
  {
   "cell_type": "code",
   "execution_count": 6,
   "id": "26c4476d",
   "metadata": {},
   "outputs": [],
   "source": [
    "from selenium import webdriver\n",
    "from selenium.webdriver.common.by import By\n",
    "import time"
   ]
  },
  {
   "cell_type": "code",
   "execution_count": 7,
   "id": "03b601a6",
   "metadata": {},
   "outputs": [
    {
     "name": "stderr",
     "output_type": "stream",
     "text": [
      "C:\\Users\\maria\\AppData\\Local\\Temp\\ipykernel_25944\\2728643233.py:3: DeprecationWarning: executable_path has been deprecated, please pass in a Service object\n",
      "  driver = webdriver.Chrome(PATH)\n"
     ]
    }
   ],
   "source": [
    "PATH = \"C:\\Program Files (x86)\\chromedriver.exe\"\n",
    "\n",
    "driver = webdriver.Chrome(PATH)\n",
    "\n",
    "driver.get(\"http://quotes.toscrape.com/\")\n",
    "\n",
    "time.sleep(5)\n",
    "\n",
    "#Find Elements\n",
    "quotes = driver.find_elements(By.CLASS_NAME, \"text\")\n",
    "authors = driver.find_elements(By.CLASS_NAME, \"author\")"
   ]
  },
  {
   "cell_type": "code",
   "execution_count": 8,
   "id": "482e2b9d",
   "metadata": {},
   "outputs": [
    {
     "name": "stdout",
     "output_type": "stream",
     "text": [
      "“The world as we have created it is a process of our thinking. It cannot be changed without changing our thinking.”\n",
      "“It is our choices, Harry, that show what we truly are, far more than our abilities.”\n",
      "“There are only two ways to live your life. One is as though nothing is a miracle. The other is as though everything is a miracle.”\n",
      "“The person, be it gentleman or lady, who has not pleasure in a good novel, must be intolerably stupid.”\n",
      "“Imperfection is beauty, madness is genius and it's better to be absolutely ridiculous than absolutely boring.”\n",
      "“Try not to become a man of success. Rather become a man of value.”\n",
      "“It is better to be hated for what you are than to be loved for what you are not.”\n",
      "“I have not failed. I've just found 10,000 ways that won't work.”\n",
      "“A woman is like a tea bag; you never know how strong it is until it's in hot water.”\n",
      "“A day without sunshine is like, you know, night.”\n"
     ]
    }
   ],
   "source": [
    "for quote in quotes:\n",
    "    quote= quote.text.strip()\n",
    "    print(quote)"
   ]
  },
  {
   "cell_type": "code",
   "execution_count": 9,
   "id": "cf17347f",
   "metadata": {
    "scrolled": false
   },
   "outputs": [
    {
     "name": "stdout",
     "output_type": "stream",
     "text": [
      "Albert Einstein\n",
      "J.K. Rowling\n",
      "Albert Einstein\n",
      "Jane Austen\n",
      "Marilyn Monroe\n",
      "Albert Einstein\n",
      "André Gide\n",
      "Thomas A. Edison\n",
      "Eleanor Roosevelt\n",
      "Steve Martin\n"
     ]
    }
   ],
   "source": [
    "for author in authors:\n",
    "    author= author.text.strip()\n",
    "    print(author)"
   ]
  },
  {
   "cell_type": "markdown",
   "id": "2920d9cd",
   "metadata": {},
   "source": [
    "### 2. Website: Wikipedia\n",
    "\n",
    "Se realizará web scraping a una búsqueda en la página de wikipedia"
   ]
  },
  {
   "cell_type": "markdown",
   "id": "a3031080",
   "metadata": {},
   "source": [
    "#### 2.1. Scraping con BeautifulSoup"
   ]
  },
  {
   "cell_type": "code",
   "execution_count": 10,
   "id": "07e5a456",
   "metadata": {},
   "outputs": [],
   "source": [
    "url = 'https://es.wikipedia.org/wiki/ChatGPT'\n",
    "page = requests.get(url)"
   ]
  },
  {
   "cell_type": "code",
   "execution_count": 11,
   "id": "3d5ff23a",
   "metadata": {},
   "outputs": [
    {
     "data": {
      "text/plain": [
       "200"
      ]
     },
     "execution_count": 11,
     "metadata": {},
     "output_type": "execute_result"
    }
   ],
   "source": [
    "page.status_code"
   ]
  },
  {
   "cell_type": "code",
   "execution_count": 12,
   "id": "e34fa72f",
   "metadata": {},
   "outputs": [],
   "source": [
    "soup = BeautifulSoup(page.content,'html.parser')"
   ]
  },
  {
   "cell_type": "code",
   "execution_count": 13,
   "id": "96e9e6de",
   "metadata": {
    "scrolled": true
   },
   "outputs": [
    {
     "data": {
      "text/plain": [
       "<title>ChatGPT - Wikipedia, la enciclopedia libre</title>"
      ]
     },
     "execution_count": 13,
     "metadata": {},
     "output_type": "execute_result"
    }
   ],
   "source": [
    "soup.find('title')"
   ]
  },
  {
   "cell_type": "markdown",
   "id": "4dff60e2",
   "metadata": {},
   "source": [
    "#### 2.2. Scraping con Selenimun"
   ]
  },
  {
   "cell_type": "code",
   "execution_count": 14,
   "id": "df282bb4",
   "metadata": {},
   "outputs": [
    {
     "name": "stderr",
     "output_type": "stream",
     "text": [
      "C:\\Users\\maria\\AppData\\Local\\Temp\\ipykernel_25944\\1728623461.py:3: DeprecationWarning: executable_path has been deprecated, please pass in a Service object\n",
      "  driver = webdriver.Chrome(driver_path)\n"
     ]
    },
    {
     "name": "stdout",
     "output_type": "stream",
     "text": [
      "Búsqueda Wikipedia: ChatGPT es un prototipo de chatbot de inteligencia artificial desarrollado en 2022 por OpenAI que se especializa en el diálogo. El chatbot es un gran modelo de lenguaje ajustado con técnicas de aprendizaje tanto supervisadas como de refuerzo.1 Se basa en el modelo GPT-3.5 de OpenAI, una versión mejorada de GPT-3.\n"
     ]
    }
   ],
   "source": [
    "driver_path = 'C:\\\\Users\\\\maria\\\\Downloads\\\\chromedriver_win32\\\\chromedriver.exe'\n",
    "\n",
    "driver = webdriver.Chrome(driver_path)\n",
    "\n",
    "driver.get(\"https://es.wikipedia.org/wiki/ChatGPT\")\n",
    "\n",
    "time.sleep(1)\n",
    "\n",
    "chatgpt = driver.find_element(\"xpath\", '//*[@id=\"mw-content-text\"]/div[1]/p[1]')\n",
    "\n",
    "print('Búsqueda Wikipedia: '+ chatgpt.text)\n",
    "\n",
    "driver.quit()"
   ]
  },
  {
   "cell_type": "markdown",
   "id": "23215f26",
   "metadata": {},
   "source": [
    "# Exercici 2"
   ]
  },
  {
   "cell_type": "markdown",
   "id": "dd52f666",
   "metadata": {},
   "source": [
    "*Documenta en un Word el teu conjunt de dades generat amb la informació que tenen els diferents arxius de Kaggle.*"
   ]
  },
  {
   "cell_type": "markdown",
   "id": "d5e21065",
   "metadata": {},
   "source": [
    "### 1. About dataset : URL QUOTES\n",
    "\n",
    "#### Context:\n",
    "\n",
    "Este conjunto de datos contiene las 10 citas principales de los últimos tiempos. \n",
    "\n",
    "#### Content:\n",
    "* 10 filas y 2 columnas.\n",
    "* La descripción de las columnas se muestra a continuación:\n",
    "    * Citas: Citas (quotes)\n",
    "    * Autor: Nombre del autor\n",
    "    * Tag: Etiqueta principal donde se ubica la cita"
   ]
  },
  {
   "cell_type": "markdown",
   "id": "3c165003",
   "metadata": {},
   "source": [
    "### 2. About dataset : WIKIPEDIA\n",
    "\n",
    "#### Context:\n",
    "\n",
    "Este conjunto de datos contiene información acerca de ChatGPT. \n",
    "\n",
    "#### Content:\n",
    "\n",
    "* 1.\tCaracterísticas\n",
    "* 2.\tRecepción\n",
    "    * 2.1\tImplicaciones para la educación\n",
    "* 3.\tVéase también\n",
    "* 4.\tReferencias\n",
    "* 5. Enlaces externos"
   ]
  },
  {
   "cell_type": "markdown",
   "id": "3a2e5d83",
   "metadata": {},
   "source": [
    "## Exercici 3"
   ]
  },
  {
   "cell_type": "markdown",
   "id": "ae88deef",
   "metadata": {},
   "source": [
    "*Tria una pàgina web que tu vulguis i realitza web scraping mitjançant la llibreria Selenium primer i Scrapy després.*\n",
    "\n",
    "Vamos a realizar scraping sobre diferentes fuentes de información relacionadas con el tiempo y el estado de las estaciones de esquí.\n",
    "\n",
    "### 3.1. El Tiempo: Barcelona (Barcelona) - Predicción por horas [https://eltiempo.es]"
   ]
  },
  {
   "cell_type": "code",
   "execution_count": 16,
   "id": "fcd53c6c",
   "metadata": {
    "scrolled": false
   },
   "outputs": [
    {
     "name": "stderr",
     "output_type": "stream",
     "text": [
      "C:\\Users\\maria\\AppData\\Local\\Temp\\ipykernel_25944\\2969636867.py:16: DeprecationWarning: executable_path has been deprecated, please pass in a Service object\n",
      "  driver = webdriver.Chrome(driver_path, chrome_options=options)\n",
      "C:\\Users\\maria\\AppData\\Local\\Temp\\ipykernel_25944\\2969636867.py:16: DeprecationWarning: use options instead of chrome_options\n",
      "  driver = webdriver.Chrome(driver_path, chrome_options=options)\n"
     ]
    }
   ],
   "source": [
    "# Librerías\n",
    "from selenium import webdriver\n",
    "from selenium.webdriver.support.ui import WebDriverWait\n",
    "from selenium.webdriver.support import expected_conditions as EC\n",
    "from selenium.webdriver.common.by import By\n",
    "import time\n",
    "import pandas as pd\n",
    "\n",
    "# Opciones de navegación\n",
    "options =  webdriver.ChromeOptions()\n",
    "options.add_argument('--start-maximized')\n",
    "options.add_argument('--disable-extensions')\n",
    "\n",
    "driver_path = 'C:\\\\Users\\\\maria\\\\Downloads\\\\chromedriver_win32\\\\chromedriver.exe'\n",
    "\n",
    "driver = webdriver.Chrome(driver_path, chrome_options=options)\n",
    "\n",
    "# Iniciarla en la pantalla 2\n",
    "driver.set_window_position(2000, 0)\n",
    "driver.maximize_window()\n",
    "time.sleep(1)\n",
    "\n",
    "# Inicializamos el navegador\n",
    "driver.get('https://eltiempo.es')\n",
    "\n",
    "WebDriverWait(driver, 5)\\\n",
    "    .until(EC.element_to_be_clickable((By.CSS_SELECTOR,\n",
    "                                      'button.didomi-components-button didomi-button didomi-dismiss-button didomi-components-button--color didomi-button-highlight highlight-button'.replace(' ', '.'))))\\\n",
    "    .click()\n",
    "\n",
    "time.sleep(5)\n",
    "\n",
    "WebDriverWait(driver, 5)\\\n",
    "    .until(EC.element_to_be_clickable((By.CSS_SELECTOR,\n",
    "                                      'input#term')))\\\n",
    "    .send_keys('Barcelona')\n",
    "\n",
    "time.sleep(5)\n",
    "\n",
    "WebDriverWait(driver, 20)\\\n",
    "    .until(EC.element_to_be_clickable((By.CSS_SELECTOR,\n",
    "                                      'i.icon.icon-sm.icon-search')))\\\n",
    "    .click()\n",
    "\n",
    "time.sleep(5)\n",
    "\n",
    "WebDriverWait(driver, 20)\\\n",
    "    .until(EC.element_to_be_clickable((By.CSS_SELECTOR,\n",
    "                                      'i.icon_weather_s.icon.icon-sm.icon-city')))\\\n",
    "    .click()\n",
    "\n",
    "time.sleep(5)\n",
    "\n",
    "WebDriverWait(driver, 5)\\\n",
    "    .until(EC.element_to_be_clickable((By.XPATH,\n",
    "                                      '/html/body/div[5]/div[1]/div[4]/div/main/section[3]/section/div/article/section/ul[1]/li[2]/h2/a')))\\\n",
    "    .click()\n",
    "\n",
    "time.sleep(5)\n",
    "\n",
    "WebDriverWait(driver, 5)\\\n",
    "    .until(EC.element_to_be_clickable((By.XPATH,\n",
    "                                      '/html/body/div[5]/div[1]/div[4]/div/section[3]/section/div[1]/ul')))\n",
    "\n",
    "time.sleep(3)\n",
    "\n",
    "texto_columnas = driver.find_element(By.XPATH, '/html/body/div[5]/div[1]/div[4]/div/section[3]/section/div[1]/ul')\n",
    "texto_columnas = texto_columnas.text\n",
    "\n",
    "tiempo_hoy = texto_columnas.split('Mañana')[0].split('\\n')[1:-1]\n",
    "\n",
    "horas = list()\n",
    "temp = list()\n",
    "v_viento = list()\n",
    "\n",
    "for i in range(0, len(tiempo_hoy), 7):\n",
    "    horas.append(tiempo_hoy[i])\n",
    "    temp.append(tiempo_hoy[i+2])\n",
    "    v_viento.append(tiempo_hoy[i+5])\n",
    "\n",
    "df = pd.DataFrame({'Horas': horas, 'Temperatura': temp, 'V_viento(km_h)':v_viento})\n",
    "\n",
    "#df.to_csv('tiempo_hoy.csv', index=False)\n",
    "\n",
    "driver.quit()"
   ]
  },
  {
   "cell_type": "code",
   "execution_count": 23,
   "id": "1f38bb90",
   "metadata": {
    "scrolled": true
   },
   "outputs": [
    {
     "data": {
      "text/html": [
       "<div>\n",
       "<style scoped>\n",
       "    .dataframe tbody tr th:only-of-type {\n",
       "        vertical-align: middle;\n",
       "    }\n",
       "\n",
       "    .dataframe tbody tr th {\n",
       "        vertical-align: top;\n",
       "    }\n",
       "\n",
       "    .dataframe thead th {\n",
       "        text-align: right;\n",
       "    }\n",
       "</style>\n",
       "<table border=\"1\" class=\"dataframe\">\n",
       "  <thead>\n",
       "    <tr style=\"text-align: right;\">\n",
       "      <th></th>\n",
       "      <th>Horas</th>\n",
       "      <th>Temperatura</th>\n",
       "      <th>V_viento(km_h)</th>\n",
       "    </tr>\n",
       "  </thead>\n",
       "  <tbody>\n",
       "    <tr>\n",
       "      <th>0</th>\n",
       "      <td>10</td>\n",
       "      <td>4°</td>\n",
       "      <td>15</td>\n",
       "    </tr>\n",
       "    <tr>\n",
       "      <th>1</th>\n",
       "      <td>11</td>\n",
       "      <td>6°</td>\n",
       "      <td>12</td>\n",
       "    </tr>\n",
       "    <tr>\n",
       "      <th>2</th>\n",
       "      <td>12</td>\n",
       "      <td>7°</td>\n",
       "      <td>9</td>\n",
       "    </tr>\n",
       "    <tr>\n",
       "      <th>3</th>\n",
       "      <td>13</td>\n",
       "      <td>8°</td>\n",
       "      <td>7</td>\n",
       "    </tr>\n",
       "    <tr>\n",
       "      <th>4</th>\n",
       "      <td>14</td>\n",
       "      <td>9°</td>\n",
       "      <td>6</td>\n",
       "    </tr>\n",
       "    <tr>\n",
       "      <th>5</th>\n",
       "      <td>15</td>\n",
       "      <td>10°</td>\n",
       "      <td>5</td>\n",
       "    </tr>\n",
       "    <tr>\n",
       "      <th>6</th>\n",
       "      <td>16</td>\n",
       "      <td>10°</td>\n",
       "      <td>5</td>\n",
       "    </tr>\n",
       "    <tr>\n",
       "      <th>7</th>\n",
       "      <td>17</td>\n",
       "      <td>10°</td>\n",
       "      <td>5</td>\n",
       "    </tr>\n",
       "    <tr>\n",
       "      <th>8</th>\n",
       "      <td>18</td>\n",
       "      <td>9°</td>\n",
       "      <td>5</td>\n",
       "    </tr>\n",
       "    <tr>\n",
       "      <th>9</th>\n",
       "      <td>19</td>\n",
       "      <td>9°</td>\n",
       "      <td>5</td>\n",
       "    </tr>\n",
       "    <tr>\n",
       "      <th>10</th>\n",
       "      <td>20</td>\n",
       "      <td>8°</td>\n",
       "      <td>6</td>\n",
       "    </tr>\n",
       "    <tr>\n",
       "      <th>11</th>\n",
       "      <td>21</td>\n",
       "      <td>7°</td>\n",
       "      <td>6</td>\n",
       "    </tr>\n",
       "    <tr>\n",
       "      <th>12</th>\n",
       "      <td>22</td>\n",
       "      <td>6°</td>\n",
       "      <td>6</td>\n",
       "    </tr>\n",
       "    <tr>\n",
       "      <th>13</th>\n",
       "      <td>23</td>\n",
       "      <td>6°</td>\n",
       "      <td>7</td>\n",
       "    </tr>\n",
       "  </tbody>\n",
       "</table>\n",
       "</div>"
      ],
      "text/plain": [
       "   Horas Temperatura V_viento(km_h)\n",
       "0     10          4°             15\n",
       "1     11          6°             12\n",
       "2     12          7°              9\n",
       "3     13          8°              7\n",
       "4     14          9°              6\n",
       "5     15         10°              5\n",
       "6     16         10°              5\n",
       "7     17         10°              5\n",
       "8     18          9°              5\n",
       "9     19          9°              5\n",
       "10    20          8°              6\n",
       "11    21          7°              6\n",
       "12    22          6°              6\n",
       "13    23          6°              7"
      ]
     },
     "execution_count": 23,
     "metadata": {},
     "output_type": "execute_result"
    }
   ],
   "source": [
    "df"
   ]
  },
  {
   "cell_type": "markdown",
   "id": "77db9686",
   "metadata": {},
   "source": [
    "En la tabla anterior podemos ver resumidos los datos por horas para tempertura y velocidad del viento en Barcelona. Parte del jueves 26 de Enero 2023"
   ]
  },
  {
   "cell_type": "markdown",
   "id": "7445aece",
   "metadata": {},
   "source": [
    "### 3.1. Pirineo Catalán, estaciones de esquí  [https://infonieve.es/]\n",
    "\n",
    "Listado de las estaciones de esquí alpino de Pirineo Catalán"
   ]
  },
  {
   "cell_type": "code",
   "execution_count": 18,
   "id": "95904803",
   "metadata": {},
   "outputs": [
    {
     "name": "stderr",
     "output_type": "stream",
     "text": [
      "C:\\Users\\maria\\AppData\\Local\\Temp\\ipykernel_25944\\1164257648.py:16: DeprecationWarning: executable_path has been deprecated, please pass in a Service object\n",
      "  driver = webdriver.Chrome(driver_path)\n"
     ]
    }
   ],
   "source": [
    "# Librerías\n",
    "from selenium import webdriver\n",
    "from selenium.webdriver.support.ui import WebDriverWait\n",
    "from selenium.webdriver.support import expected_conditions as EC\n",
    "from selenium.webdriver.common.by import By\n",
    "import time\n",
    "import pandas as pd\n",
    "\n",
    "# Opciones de navegación\n",
    "options =  webdriver.ChromeOptions()\n",
    "options.add_argument('--start-maximized')\n",
    "options.add_argument('--disable-extensions')\n",
    "\n",
    "driver_path = 'C:\\\\Users\\\\maria\\\\Downloads\\\\chromedriver_win32\\\\chromedriver.exe'\n",
    "\n",
    "driver = webdriver.Chrome(driver_path)\n",
    "\n",
    "# Iniciarla en la pantalla 2\n",
    "driver.set_window_position(2000, 0)\n",
    "driver.maximize_window()\n",
    "time.sleep(1)\n",
    "\n",
    "# Inicializamos el navegador\n",
    "driver.get('https://infonieve.es/')\n",
    "\n",
    "time.sleep(5)\n",
    "\n",
    "WebDriverWait(driver, 5)\\\n",
    "    .until(EC.element_to_be_clickable((By.XPATH,\n",
    "                                      '/html/body/div[2]/header/div/div/div/div[1]/div[1]/div[3]/nav/menu/ul/li[3]/a')))\\\n",
    "    .click()\n",
    "\n",
    "time.sleep(1)\n",
    "\n",
    "# Extraemos los datos de las estaciones de esquí de Pirineo Catalán\n",
    "texto_infonieve = driver.find_element(By.XPATH, '/html/body/div[5]/div[2]/div/div[2]/div[2]/div/div[3]')\n",
    "texto_infonieve = texto_infonieve.text\n",
    "\n",
    "go_ski = texto_infonieve.replace('KM ', '')\n",
    "go_ski = go_ski.replace(' - ', '\\n')\n",
    "go_ski = go_ski.split(\"\\n\")[1:]\n",
    "\n",
    "estacion = list()\n",
    "estado = list()\n",
    "nieve_cm = list()\n",
    "nieve_tipo = list()\n",
    "\n",
    "for i in range(0, len(go_ski), 7):\n",
    "    estacion.append(go_ski[i])\n",
    "    estado.append(go_ski[i+2])\n",
    "    nieve_cm.append(go_ski[i+3])\n",
    "    nieve_tipo.append(go_ski[i+4])\n",
    "\n",
    "df2 = pd.DataFrame({'Estacion': estacion, 'Estado': estado, 'Nieve_cm':nieve_cm, 'Nieve_tipo':nieve_tipo})\n",
    "df2[['Estado', 'Km_abiertos']] = df2['Estado'].str.rsplit(pat=' ', expand=True)\n",
    "\n",
    "driver.quit()\n",
    "\n",
    "#df.to_csv('tiempo_hoy.csv', index=False)"
   ]
  },
  {
   "cell_type": "code",
   "execution_count": 19,
   "id": "77d42828",
   "metadata": {
    "scrolled": true
   },
   "outputs": [
    {
     "data": {
      "text/html": [
       "<div>\n",
       "<style scoped>\n",
       "    .dataframe tbody tr th:only-of-type {\n",
       "        vertical-align: middle;\n",
       "    }\n",
       "\n",
       "    .dataframe tbody tr th {\n",
       "        vertical-align: top;\n",
       "    }\n",
       "\n",
       "    .dataframe thead th {\n",
       "        text-align: right;\n",
       "    }\n",
       "</style>\n",
       "<table border=\"1\" class=\"dataframe\">\n",
       "  <thead>\n",
       "    <tr style=\"text-align: right;\">\n",
       "      <th></th>\n",
       "      <th>Estacion</th>\n",
       "      <th>Estado</th>\n",
       "      <th>Nieve_cm</th>\n",
       "      <th>Nieve_tipo</th>\n",
       "      <th>Km_abiertos</th>\n",
       "    </tr>\n",
       "  </thead>\n",
       "  <tbody>\n",
       "    <tr>\n",
       "      <th>0</th>\n",
       "      <td>Alp 2500</td>\n",
       "      <td>Abierta</td>\n",
       "      <td>75 CM</td>\n",
       "      <td>Polvo</td>\n",
       "      <td>84/145</td>\n",
       "    </tr>\n",
       "    <tr>\n",
       "      <th>1</th>\n",
       "      <td>La Molina</td>\n",
       "      <td>Abierta</td>\n",
       "      <td>75 CM</td>\n",
       "      <td>Polvo</td>\n",
       "      <td>28/71</td>\n",
       "    </tr>\n",
       "    <tr>\n",
       "      <th>2</th>\n",
       "      <td>Masella</td>\n",
       "      <td>Abierta</td>\n",
       "      <td>75 CM</td>\n",
       "      <td>Polvo</td>\n",
       "      <td>56/74</td>\n",
       "    </tr>\n",
       "    <tr>\n",
       "      <th>3</th>\n",
       "      <td>Baqueira Beret</td>\n",
       "      <td>Abierta</td>\n",
       "      <td>155 CM</td>\n",
       "      <td>Polvo</td>\n",
       "      <td>146/170</td>\n",
       "    </tr>\n",
       "    <tr>\n",
       "      <th>4</th>\n",
       "      <td>Boí Taüll</td>\n",
       "      <td>Abierta</td>\n",
       "      <td>130 CM</td>\n",
       "      <td>Polvo</td>\n",
       "      <td>34/46</td>\n",
       "    </tr>\n",
       "    <tr>\n",
       "      <th>5</th>\n",
       "      <td>Espot</td>\n",
       "      <td>Abierta</td>\n",
       "      <td>95 CM</td>\n",
       "      <td>Polvo/Dura</td>\n",
       "      <td>21/25</td>\n",
       "    </tr>\n",
       "    <tr>\n",
       "      <th>6</th>\n",
       "      <td>Port Ainé</td>\n",
       "      <td>Abierta</td>\n",
       "      <td>75 CM</td>\n",
       "      <td>Polvo</td>\n",
       "      <td>26/27</td>\n",
       "    </tr>\n",
       "    <tr>\n",
       "      <th>7</th>\n",
       "      <td>Port del Comte</td>\n",
       "      <td>Abierta</td>\n",
       "      <td>40 CM</td>\n",
       "      <td>Polvo/Dura</td>\n",
       "      <td>17/50</td>\n",
       "    </tr>\n",
       "    <tr>\n",
       "      <th>8</th>\n",
       "      <td>Tavascán</td>\n",
       "      <td>Abierta</td>\n",
       "      <td>120 CM</td>\n",
       "      <td>Polvo</td>\n",
       "      <td>7/7</td>\n",
       "    </tr>\n",
       "    <tr>\n",
       "      <th>9</th>\n",
       "      <td>Vall de Nuria</td>\n",
       "      <td>Previsión</td>\n",
       "      <td>80 CM</td>\n",
       "      <td>Polvo</td>\n",
       "      <td>6/8</td>\n",
       "    </tr>\n",
       "    <tr>\n",
       "      <th>10</th>\n",
       "      <td>Vallter 2000</td>\n",
       "      <td>Previsión</td>\n",
       "      <td>40 CM</td>\n",
       "      <td>Polvo</td>\n",
       "      <td>3/13</td>\n",
       "    </tr>\n",
       "  </tbody>\n",
       "</table>\n",
       "</div>"
      ],
      "text/plain": [
       "          Estacion     Estado Nieve_cm  Nieve_tipo Km_abiertos\n",
       "0         Alp 2500    Abierta    75 CM       Polvo      84/145\n",
       "1        La Molina    Abierta    75 CM       Polvo       28/71\n",
       "2          Masella    Abierta    75 CM       Polvo       56/74\n",
       "3   Baqueira Beret    Abierta   155 CM       Polvo     146/170\n",
       "4        Boí Taüll    Abierta   130 CM       Polvo       34/46\n",
       "5            Espot    Abierta    95 CM  Polvo/Dura       21/25\n",
       "6        Port Ainé    Abierta    75 CM       Polvo       26/27\n",
       "7   Port del Comte    Abierta    40 CM  Polvo/Dura       17/50\n",
       "8         Tavascán    Abierta   120 CM       Polvo         7/7\n",
       "9    Vall de Nuria  Previsión    80 CM       Polvo         6/8\n",
       "10    Vallter 2000  Previsión    40 CM       Polvo        3/13"
      ]
     },
     "execution_count": 19,
     "metadata": {},
     "output_type": "execute_result"
    }
   ],
   "source": [
    "df2"
   ]
  },
  {
   "cell_type": "markdown",
   "id": "157379c0",
   "metadata": {},
   "source": [
    "Datos de apertura de pistas y remontes, estado y calidad de la nieve, de las estaciones de esquí de Pirineo Catalán. Parte del jueves 26 de Enero 2023."
   ]
  },
  {
   "cell_type": "code",
   "execution_count": null,
   "id": "549f81ea",
   "metadata": {},
   "outputs": [],
   "source": []
  }
 ],
 "metadata": {
  "kernelspec": {
   "display_name": "Python 3 (ipykernel)",
   "language": "python",
   "name": "python3"
  },
  "language_info": {
   "codemirror_mode": {
    "name": "ipython",
    "version": 3
   },
   "file_extension": ".py",
   "mimetype": "text/x-python",
   "name": "python",
   "nbconvert_exporter": "python",
   "pygments_lexer": "ipython3",
   "version": "3.9.12"
  }
 },
 "nbformat": 4,
 "nbformat_minor": 5
}
